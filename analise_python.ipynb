{
 "cells": [
  {
   "cell_type": "code",
   "execution_count": 1,
   "id": "da705d42",
   "metadata": {
    "scrolled": true
   },
   "outputs": [],
   "source": [
    "import basedosdados as bd\n",
    "import pandas as pd\n",
    "import json"
   ]
  },
  {
   "cell_type": "code",
   "execution_count": 2,
   "id": "e14e4412",
   "metadata": {},
   "outputs": [],
   "source": [
    "with open('config.json', 'r') as file:\n",
    "    config = json.load(file)\n",
    "\n",
    "project_id = config.get('billing_project_id', '')"
   ]
  },
  {
   "cell_type": "code",
   "execution_count": 3,
   "id": "a93026c2",
   "metadata": {},
   "outputs": [
    {
     "name": "stdout",
     "output_type": "stream",
     "text": [
      "Downloading: 100%|\u001b[32m██████████████████████████████████████████████████████████████████\u001b[0m|\u001b[0m\n"
     ]
    },
    {
     "data": {
      "text/html": [
       "<div>\n",
       "<style scoped>\n",
       "    .dataframe tbody tr th:only-of-type {\n",
       "        vertical-align: middle;\n",
       "    }\n",
       "\n",
       "    .dataframe tbody tr th {\n",
       "        vertical-align: top;\n",
       "    }\n",
       "\n",
       "    .dataframe thead th {\n",
       "        text-align: right;\n",
       "    }\n",
       "</style>\n",
       "<table border=\"1\" class=\"dataframe\">\n",
       "  <thead>\n",
       "    <tr style=\"text-align: right;\">\n",
       "      <th></th>\n",
       "      <th>id_chamado</th>\n",
       "      <th>data_inicio</th>\n",
       "      <th>data_fim</th>\n",
       "      <th>id_bairro</th>\n",
       "      <th>id_territorialidade</th>\n",
       "      <th>id_logradouro</th>\n",
       "      <th>numero_logradouro</th>\n",
       "      <th>id_unidade_organizacional</th>\n",
       "      <th>nome_unidade_organizacional</th>\n",
       "      <th>id_unidade_organizacional_mae</th>\n",
       "      <th>...</th>\n",
       "      <th>tempo_prazo</th>\n",
       "      <th>prazo_unidade</th>\n",
       "      <th>prazo_tipo</th>\n",
       "      <th>dentro_prazo</th>\n",
       "      <th>situacao</th>\n",
       "      <th>tipo_situacao</th>\n",
       "      <th>justificativa_status</th>\n",
       "      <th>reclamacoes</th>\n",
       "      <th>data_particao</th>\n",
       "      <th>geometry</th>\n",
       "    </tr>\n",
       "  </thead>\n",
       "  <tbody>\n",
       "    <tr>\n",
       "      <th>0</th>\n",
       "      <td>19659939</td>\n",
       "      <td>2023-12-31 10:18:14</td>\n",
       "      <td>2023-12-31 16:15:19</td>\n",
       "      <td>103</td>\n",
       "      <td>3</td>\n",
       "      <td>162594</td>\n",
       "      <td>105</td>\n",
       "      <td>8</td>\n",
       "      <td>RIOLUZ - Companhia Municipal de Energia e Ilum...</td>\n",
       "      <td>RIOLUZ - Companhia Municipal de Energia e Ilum...</td>\n",
       "      <td>...</td>\n",
       "      <td>&lt;NA&gt;</td>\n",
       "      <td>H</td>\n",
       "      <td>F</td>\n",
       "      <td>No prazo</td>\n",
       "      <td>Encerrado</td>\n",
       "      <td>Atendido</td>\n",
       "      <td>None</td>\n",
       "      <td>0</td>\n",
       "      <td>2023-12-01</td>\n",
       "      <td>None</td>\n",
       "    </tr>\n",
       "    <tr>\n",
       "      <th>1</th>\n",
       "      <td>19659565</td>\n",
       "      <td>2023-12-30 20:59:55</td>\n",
       "      <td>2023-12-31 11:15:20</td>\n",
       "      <td>122</td>\n",
       "      <td>4</td>\n",
       "      <td>159764</td>\n",
       "      <td>133</td>\n",
       "      <td>8</td>\n",
       "      <td>RIOLUZ - Companhia Municipal de Energia e Ilum...</td>\n",
       "      <td>RIOLUZ - Companhia Municipal de Energia e Ilum...</td>\n",
       "      <td>...</td>\n",
       "      <td>&lt;NA&gt;</td>\n",
       "      <td>D</td>\n",
       "      <td>F</td>\n",
       "      <td>No prazo</td>\n",
       "      <td>Encerrado</td>\n",
       "      <td>Não constatado</td>\n",
       "      <td>None</td>\n",
       "      <td>0</td>\n",
       "      <td>2023-12-01</td>\n",
       "      <td>None</td>\n",
       "    </tr>\n",
       "    <tr>\n",
       "      <th>2</th>\n",
       "      <td>19659643</td>\n",
       "      <td>2023-12-30 22:28:23</td>\n",
       "      <td>2023-12-31 10:15:19</td>\n",
       "      <td>127</td>\n",
       "      <td>4</td>\n",
       "      <td>34660</td>\n",
       "      <td>1100</td>\n",
       "      <td>8</td>\n",
       "      <td>RIOLUZ - Companhia Municipal de Energia e Ilum...</td>\n",
       "      <td>RIOLUZ - Companhia Municipal de Energia e Ilum...</td>\n",
       "      <td>...</td>\n",
       "      <td>&lt;NA&gt;</td>\n",
       "      <td>D</td>\n",
       "      <td>F</td>\n",
       "      <td>No prazo</td>\n",
       "      <td>Encerrado</td>\n",
       "      <td>Atendido</td>\n",
       "      <td>None</td>\n",
       "      <td>0</td>\n",
       "      <td>2023-12-01</td>\n",
       "      <td>POINT(-43.317855 -22.988612)</td>\n",
       "    </tr>\n",
       "    <tr>\n",
       "      <th>3</th>\n",
       "      <td>19649525</td>\n",
       "      <td>2023-12-28 01:23:36</td>\n",
       "      <td>2023-12-31 08:21:16</td>\n",
       "      <td>78</td>\n",
       "      <td>3</td>\n",
       "      <td>15933</td>\n",
       "      <td>20</td>\n",
       "      <td>8</td>\n",
       "      <td>RIOLUZ - Companhia Municipal de Energia e Ilum...</td>\n",
       "      <td>RIOLUZ - Companhia Municipal de Energia e Ilum...</td>\n",
       "      <td>...</td>\n",
       "      <td>&lt;NA&gt;</td>\n",
       "      <td>D</td>\n",
       "      <td>F</td>\n",
       "      <td>No prazo</td>\n",
       "      <td>Encerrado</td>\n",
       "      <td>Não atendido</td>\n",
       "      <td>None</td>\n",
       "      <td>0</td>\n",
       "      <td>2023-12-01</td>\n",
       "      <td>POINT(-43.3432944 -22.8834309)</td>\n",
       "    </tr>\n",
       "    <tr>\n",
       "      <th>4</th>\n",
       "      <td>19654358</td>\n",
       "      <td>2023-12-29 04:27:17</td>\n",
       "      <td>2023-12-31 08:29:37</td>\n",
       "      <td>141</td>\n",
       "      <td>5</td>\n",
       "      <td>43851</td>\n",
       "      <td>208</td>\n",
       "      <td>8</td>\n",
       "      <td>RIOLUZ - Companhia Municipal de Energia e Ilum...</td>\n",
       "      <td>RIOLUZ - Companhia Municipal de Energia e Ilum...</td>\n",
       "      <td>...</td>\n",
       "      <td>&lt;NA&gt;</td>\n",
       "      <td>D</td>\n",
       "      <td>F</td>\n",
       "      <td>No prazo</td>\n",
       "      <td>Encerrado</td>\n",
       "      <td>Não atendido</td>\n",
       "      <td>None</td>\n",
       "      <td>0</td>\n",
       "      <td>2023-12-01</td>\n",
       "      <td>POINT(-43.461414 -22.8714662)</td>\n",
       "    </tr>\n",
       "  </tbody>\n",
       "</table>\n",
       "<p>5 rows × 32 columns</p>\n",
       "</div>"
      ],
      "text/plain": [
       "  id_chamado         data_inicio            data_fim id_bairro  \\\n",
       "0   19659939 2023-12-31 10:18:14 2023-12-31 16:15:19       103   \n",
       "1   19659565 2023-12-30 20:59:55 2023-12-31 11:15:20       122   \n",
       "2   19659643 2023-12-30 22:28:23 2023-12-31 10:15:19       127   \n",
       "3   19649525 2023-12-28 01:23:36 2023-12-31 08:21:16        78   \n",
       "4   19654358 2023-12-29 04:27:17 2023-12-31 08:29:37       141   \n",
       "\n",
       "  id_territorialidade id_logradouro  numero_logradouro  \\\n",
       "0                   3        162594                105   \n",
       "1                   4        159764                133   \n",
       "2                   4         34660               1100   \n",
       "3                   3         15933                 20   \n",
       "4                   5         43851                208   \n",
       "\n",
       "  id_unidade_organizacional  \\\n",
       "0                         8   \n",
       "1                         8   \n",
       "2                         8   \n",
       "3                         8   \n",
       "4                         8   \n",
       "\n",
       "                         nome_unidade_organizacional  \\\n",
       "0  RIOLUZ - Companhia Municipal de Energia e Ilum...   \n",
       "1  RIOLUZ - Companhia Municipal de Energia e Ilum...   \n",
       "2  RIOLUZ - Companhia Municipal de Energia e Ilum...   \n",
       "3  RIOLUZ - Companhia Municipal de Energia e Ilum...   \n",
       "4  RIOLUZ - Companhia Municipal de Energia e Ilum...   \n",
       "\n",
       "                       id_unidade_organizacional_mae  ... tempo_prazo  \\\n",
       "0  RIOLUZ - Companhia Municipal de Energia e Ilum...  ...        <NA>   \n",
       "1  RIOLUZ - Companhia Municipal de Energia e Ilum...  ...        <NA>   \n",
       "2  RIOLUZ - Companhia Municipal de Energia e Ilum...  ...        <NA>   \n",
       "3  RIOLUZ - Companhia Municipal de Energia e Ilum...  ...        <NA>   \n",
       "4  RIOLUZ - Companhia Municipal de Energia e Ilum...  ...        <NA>   \n",
       "\n",
       "  prazo_unidade prazo_tipo dentro_prazo   situacao   tipo_situacao  \\\n",
       "0             H          F     No prazo  Encerrado        Atendido   \n",
       "1             D          F     No prazo  Encerrado  Não constatado   \n",
       "2             D          F     No prazo  Encerrado        Atendido   \n",
       "3             D          F     No prazo  Encerrado    Não atendido   \n",
       "4             D          F     No prazo  Encerrado    Não atendido   \n",
       "\n",
       "  justificativa_status  reclamacoes  data_particao  \\\n",
       "0                 None            0     2023-12-01   \n",
       "1                 None            0     2023-12-01   \n",
       "2                 None            0     2023-12-01   \n",
       "3                 None            0     2023-12-01   \n",
       "4                 None            0     2023-12-01   \n",
       "\n",
       "                         geometry  \n",
       "0                            None  \n",
       "1                            None  \n",
       "2    POINT(-43.317855 -22.988612)  \n",
       "3  POINT(-43.3432944 -22.8834309)  \n",
       "4   POINT(-43.461414 -22.8714662)  \n",
       "\n",
       "[5 rows x 32 columns]"
      ]
     },
     "execution_count": 3,
     "metadata": {},
     "output_type": "execute_result"
    }
   ],
   "source": [
    "query_chamado_1746 = '''\n",
    "SELECT * \n",
    "FROM `datario.administracao_servicos_publicos.chamado_1746` \n",
    "WHERE data_particao BETWEEN DATE('2022-01-01') AND DATE('2023-12-31')\n",
    "'''\n",
    "\n",
    "chamado_1746 = bd.read_sql(query_chamado_1746, billing_project_id=project_id)\n",
    "chamado_1746.head()"
   ]
  },
  {
   "cell_type": "code",
   "execution_count": 4,
   "id": "931aaf67",
   "metadata": {
    "scrolled": true
   },
   "outputs": [
    {
     "name": "stdout",
     "output_type": "stream",
     "text": [
      "Downloading: 100%|\u001b[32m██████████████████████████████████████████████████████████████████\u001b[0m|\u001b[0m\n"
     ]
    },
    {
     "data": {
      "text/html": [
       "<div>\n",
       "<style scoped>\n",
       "    .dataframe tbody tr th:only-of-type {\n",
       "        vertical-align: middle;\n",
       "    }\n",
       "\n",
       "    .dataframe tbody tr th {\n",
       "        vertical-align: top;\n",
       "    }\n",
       "\n",
       "    .dataframe thead th {\n",
       "        text-align: right;\n",
       "    }\n",
       "</style>\n",
       "<table border=\"1\" class=\"dataframe\">\n",
       "  <thead>\n",
       "    <tr style=\"text-align: right;\">\n",
       "      <th></th>\n",
       "      <th>ano</th>\n",
       "      <th>data_inicial</th>\n",
       "      <th>data_final</th>\n",
       "      <th>evento</th>\n",
       "      <th>taxa_ocupacao</th>\n",
       "    </tr>\n",
       "  </thead>\n",
       "  <tbody>\n",
       "    <tr>\n",
       "      <th>0</th>\n",
       "      <td>30-31/12 e 01/01 (2022-2023)</td>\n",
       "      <td>2022-12-30</td>\n",
       "      <td>2023-01-01</td>\n",
       "      <td>Reveillon</td>\n",
       "      <td>0.9251</td>\n",
       "    </tr>\n",
       "    <tr>\n",
       "      <th>1</th>\n",
       "      <td>18/02 a 21/02 de 2023</td>\n",
       "      <td>2023-02-18</td>\n",
       "      <td>2023-02-21</td>\n",
       "      <td>Carnaval</td>\n",
       "      <td>0.9554</td>\n",
       "    </tr>\n",
       "    <tr>\n",
       "      <th>2</th>\n",
       "      <td>02/09 a 04/09 de 2022</td>\n",
       "      <td>2022-09-02</td>\n",
       "      <td>2022-09-04</td>\n",
       "      <td>Rock in Rio</td>\n",
       "      <td>0.8184</td>\n",
       "    </tr>\n",
       "    <tr>\n",
       "      <th>3</th>\n",
       "      <td>08/09 a 11/09 de 2022</td>\n",
       "      <td>2022-09-08</td>\n",
       "      <td>2022-09-11</td>\n",
       "      <td>Rock in Rio</td>\n",
       "      <td>0.9451</td>\n",
       "    </tr>\n",
       "  </tbody>\n",
       "</table>\n",
       "</div>"
      ],
      "text/plain": [
       "                            ano data_inicial  data_final       evento  \\\n",
       "0  30-31/12 e 01/01 (2022-2023)   2022-12-30  2023-01-01    Reveillon   \n",
       "1         18/02 a 21/02 de 2023   2023-02-18  2023-02-21     Carnaval   \n",
       "2         02/09 a 04/09 de 2022   2022-09-02  2022-09-04  Rock in Rio   \n",
       "3         08/09 a 11/09 de 2022   2022-09-08  2022-09-11  Rock in Rio   \n",
       "\n",
       "   taxa_ocupacao  \n",
       "0         0.9251  \n",
       "1         0.9554  \n",
       "2         0.8184  \n",
       "3         0.9451  "
      ]
     },
     "execution_count": 4,
     "metadata": {},
     "output_type": "execute_result"
    }
   ],
   "source": [
    "query_eventos = \"SELECT * FROM `datario.turismo_fluxo_visitantes.rede_hoteleira_ocupacao_eventos`\"\n",
    "\n",
    "eventos = bd.read_sql(query_eventos, billing_project_id=project_id)\n",
    "eventos.head()"
   ]
  },
  {
   "cell_type": "code",
   "execution_count": 5,
   "id": "f48e4fa7",
   "metadata": {
    "scrolled": true
   },
   "outputs": [
    {
     "name": "stdout",
     "output_type": "stream",
     "text": [
      "Downloading: 100%|\u001b[32m██████████████████████████████████████████████████████████████████\u001b[0m|\u001b[0m\n"
     ]
    },
    {
     "data": {
      "text/html": [
       "<div>\n",
       "<style scoped>\n",
       "    .dataframe tbody tr th:only-of-type {\n",
       "        vertical-align: middle;\n",
       "    }\n",
       "\n",
       "    .dataframe tbody tr th {\n",
       "        vertical-align: top;\n",
       "    }\n",
       "\n",
       "    .dataframe thead th {\n",
       "        text-align: right;\n",
       "    }\n",
       "</style>\n",
       "<table border=\"1\" class=\"dataframe\">\n",
       "  <thead>\n",
       "    <tr style=\"text-align: right;\">\n",
       "      <th></th>\n",
       "      <th>id_bairro</th>\n",
       "      <th>nome</th>\n",
       "      <th>id_area_planejamento</th>\n",
       "      <th>id_regiao_planejamento</th>\n",
       "      <th>nome_regiao_planejamento</th>\n",
       "      <th>id_regiao_administrativa</th>\n",
       "      <th>nome_regiao_administrativa</th>\n",
       "      <th>subprefeitura</th>\n",
       "      <th>area</th>\n",
       "      <th>perimetro</th>\n",
       "      <th>geometry_wkt</th>\n",
       "      <th>geometry</th>\n",
       "    </tr>\n",
       "  </thead>\n",
       "  <tbody>\n",
       "    <tr>\n",
       "      <th>0</th>\n",
       "      <td>2</td>\n",
       "      <td>Gamboa</td>\n",
       "      <td>1</td>\n",
       "      <td>1.1</td>\n",
       "      <td>Centro</td>\n",
       "      <td>1</td>\n",
       "      <td>Portuaria</td>\n",
       "      <td>Centro</td>\n",
       "      <td>1.112903e+06</td>\n",
       "      <td>4612.833630</td>\n",
       "      <td>POLYGON ((-43.18791509600138 -22.8931217212322...</td>\n",
       "      <td>POLYGON((-43.1879150960014 -22.8931217212322, ...</td>\n",
       "    </tr>\n",
       "    <tr>\n",
       "      <th>1</th>\n",
       "      <td>1</td>\n",
       "      <td>Saúde</td>\n",
       "      <td>1</td>\n",
       "      <td>1.1</td>\n",
       "      <td>Centro</td>\n",
       "      <td>1</td>\n",
       "      <td>Portuaria</td>\n",
       "      <td>Centro</td>\n",
       "      <td>3.638176e+05</td>\n",
       "      <td>2646.220568</td>\n",
       "      <td>POLYGON ((-43.181151633502964 -22.895430284304...</td>\n",
       "      <td>POLYGON((-43.181151633503 -22.8954302843042, -...</td>\n",
       "    </tr>\n",
       "    <tr>\n",
       "      <th>2</th>\n",
       "      <td>4</td>\n",
       "      <td>Caju</td>\n",
       "      <td>1</td>\n",
       "      <td>1.1</td>\n",
       "      <td>Centro</td>\n",
       "      <td>1</td>\n",
       "      <td>Portuaria</td>\n",
       "      <td>Centro</td>\n",
       "      <td>5.347481e+06</td>\n",
       "      <td>19800.522524</td>\n",
       "      <td>MULTIPOLYGON (((-43.22522241788469 -22.8746498...</td>\n",
       "      <td>MULTIPOLYGON(((-43.196711909178 -22.8872495021...</td>\n",
       "    </tr>\n",
       "    <tr>\n",
       "      <th>3</th>\n",
       "      <td>3</td>\n",
       "      <td>Santo Cristo</td>\n",
       "      <td>1</td>\n",
       "      <td>1.1</td>\n",
       "      <td>Centro</td>\n",
       "      <td>1</td>\n",
       "      <td>Portuaria</td>\n",
       "      <td>Centro</td>\n",
       "      <td>1.684721e+06</td>\n",
       "      <td>6743.227885</td>\n",
       "      <td>POLYGON ((-43.194498082949806 -22.903378003392...</td>\n",
       "      <td>POLYGON((-43.1944980829498 -22.9033780033923, ...</td>\n",
       "    </tr>\n",
       "    <tr>\n",
       "      <th>4</th>\n",
       "      <td>161</td>\n",
       "      <td>Lapa</td>\n",
       "      <td>1</td>\n",
       "      <td>1.1</td>\n",
       "      <td>Centro</td>\n",
       "      <td>2</td>\n",
       "      <td>Centro</td>\n",
       "      <td>Centro</td>\n",
       "      <td>2.983258e+05</td>\n",
       "      <td>3849.181818</td>\n",
       "      <td>POLYGON ((-43.18166120770202 -22.9120798224676...</td>\n",
       "      <td>POLYGON((-43.181661207702 -22.9120798224677, -...</td>\n",
       "    </tr>\n",
       "  </tbody>\n",
       "</table>\n",
       "</div>"
      ],
      "text/plain": [
       "  id_bairro          nome id_area_planejamento id_regiao_planejamento  \\\n",
       "0         2        Gamboa                    1                    1.1   \n",
       "1         1         Saúde                    1                    1.1   \n",
       "2         4          Caju                    1                    1.1   \n",
       "3         3  Santo Cristo                    1                    1.1   \n",
       "4       161          Lapa                    1                    1.1   \n",
       "\n",
       "  nome_regiao_planejamento id_regiao_administrativa  \\\n",
       "0                   Centro                        1   \n",
       "1                   Centro                        1   \n",
       "2                   Centro                        1   \n",
       "3                   Centro                        1   \n",
       "4                   Centro                        2   \n",
       "\n",
       "  nome_regiao_administrativa subprefeitura          area     perimetro  \\\n",
       "0                  Portuaria        Centro  1.112903e+06   4612.833630   \n",
       "1                  Portuaria        Centro  3.638176e+05   2646.220568   \n",
       "2                  Portuaria        Centro  5.347481e+06  19800.522524   \n",
       "3                  Portuaria        Centro  1.684721e+06   6743.227885   \n",
       "4                     Centro        Centro  2.983258e+05   3849.181818   \n",
       "\n",
       "                                        geometry_wkt  \\\n",
       "0  POLYGON ((-43.18791509600138 -22.8931217212322...   \n",
       "1  POLYGON ((-43.181151633502964 -22.895430284304...   \n",
       "2  MULTIPOLYGON (((-43.22522241788469 -22.8746498...   \n",
       "3  POLYGON ((-43.194498082949806 -22.903378003392...   \n",
       "4  POLYGON ((-43.18166120770202 -22.9120798224676...   \n",
       "\n",
       "                                            geometry  \n",
       "0  POLYGON((-43.1879150960014 -22.8931217212322, ...  \n",
       "1  POLYGON((-43.181151633503 -22.8954302843042, -...  \n",
       "2  MULTIPOLYGON(((-43.196711909178 -22.8872495021...  \n",
       "3  POLYGON((-43.1944980829498 -22.9033780033923, ...  \n",
       "4  POLYGON((-43.181661207702 -22.9120798224677, -...  "
      ]
     },
     "execution_count": 5,
     "metadata": {},
     "output_type": "execute_result"
    }
   ],
   "source": [
    "query_bairros = \"SELECT * FROM `datario.dados_mestres.bairro`\"\n",
    "\n",
    "bairros = bd.read_sql(query_bairros, billing_project_id=project_id)\n",
    "bairros.head()"
   ]
  },
  {
   "cell_type": "code",
   "execution_count": 6,
   "id": "824bd89f",
   "metadata": {},
   "outputs": [
    {
     "name": "stdout",
     "output_type": "stream",
     "text": [
      "Stored 'chamado_1746' (DataFrame)\n",
      "Stored 'eventos' (DataFrame)\n",
      "Stored 'bairros' (DataFrame)\n"
     ]
    }
   ],
   "source": [
    "%store chamado_1746 eventos bairros"
   ]
  },
  {
   "cell_type": "code",
   "execution_count": 3,
   "id": "1ce396d4",
   "metadata": {},
   "outputs": [],
   "source": [
    "%store -r chamado_1746 eventos bairros"
   ]
  },
  {
   "cell_type": "markdown",
   "id": "467ee7ee",
   "metadata": {},
   "source": [
    "## 1.  Quantos chamados foram abertos no dia 01/04/2023?"
   ]
  },
  {
   "cell_type": "code",
   "execution_count": 4,
   "id": "eea2870e",
   "metadata": {},
   "outputs": [],
   "source": [
    "import datetime\n",
    "dt_1 = datetime.date(2023, 4, 1)\n",
    "dt_2 = datetime.date(2022, 1, 1)\n",
    "dt_3 = datetime.date(2023, 12, 31)"
   ]
  },
  {
   "cell_type": "code",
   "execution_count": 49,
   "id": "5ef87903",
   "metadata": {},
   "outputs": [],
   "source": [
    "chamados_abril = chamado_1746.loc[chamado_1746['data_inicio'].dt.date == dt_1]"
   ]
  },
  {
   "cell_type": "code",
   "execution_count": 50,
   "id": "3961e5a5",
   "metadata": {},
   "outputs": [
    {
     "data": {
      "text/plain": [
       "73"
      ]
     },
     "execution_count": 50,
     "metadata": {},
     "output_type": "execute_result"
    }
   ],
   "source": [
    "len(chamados_abril)"
   ]
  },
  {
   "cell_type": "markdown",
   "id": "19e9f8fa",
   "metadata": {},
   "source": [
    "## 2. Qual o tipo de chamado que teve mais reclamações no dia 01/04/2023?"
   ]
  },
  {
   "cell_type": "code",
   "execution_count": 53,
   "id": "d11486f1",
   "metadata": {
    "scrolled": true
   },
   "outputs": [
    {
     "name": "stdout",
     "output_type": "stream",
     "text": [
      "Poluição sonora\n",
      "24\n"
     ]
    }
   ],
   "source": [
    "print(chamados_abril['tipo'].value_counts().idxmax())\n",
    "print(chamados_abril['tipo'].value_counts().max())"
   ]
  },
  {
   "cell_type": "markdown",
   "id": "37a6d76d",
   "metadata": {},
   "source": [
    "## 3. Quais os nomes dos 3 bairros que mais tiveram chamados abertos nesse dia?"
   ]
  },
  {
   "cell_type": "code",
   "execution_count": 86,
   "id": "fec26285",
   "metadata": {
    "scrolled": false
   },
   "outputs": [
    {
     "data": {
      "text/plain": [
       "32                Leblon\n",
       "51     Engenho de Dentro\n",
       "152         Campo Grande\n",
       "Name: nome, dtype: object"
      ]
     },
     "execution_count": 86,
     "metadata": {},
     "output_type": "execute_result"
    }
   ],
   "source": [
    "bairros[bairros['id_bairro'].isin(chamados_abril['id_bairro'].value_counts().head(3).index)]['nome']"
   ]
  },
  {
   "cell_type": "markdown",
   "id": "b47cfb64",
   "metadata": {},
   "source": [
    "## 4. Qual o nome da subprefeitura com mais chamados abertos nesse dia?"
   ]
  },
  {
   "cell_type": "code",
   "execution_count": 88,
   "id": "1f8d598e",
   "metadata": {},
   "outputs": [
    {
     "data": {
      "text/plain": [
       "51    Zona Norte\n",
       "Name: subprefeitura, dtype: object"
      ]
     },
     "execution_count": 88,
     "metadata": {},
     "output_type": "execute_result"
    }
   ],
   "source": [
    "bairros[bairros['id_bairro'] == chamados_abril['id_bairro'].value_counts().idxmax()]['subprefeitura']"
   ]
  },
  {
   "cell_type": "markdown",
   "id": "5400f08e",
   "metadata": {},
   "source": [
    "## 5. Existe algum chamado aberto nesse dia que não foi associado a um bairro ou subprefeitura na tabela de bairros? Se sim, por que isso acontece?"
   ]
  },
  {
   "cell_type": "code",
   "execution_count": 93,
   "id": "fa2b6898",
   "metadata": {
    "scrolled": true
   },
   "outputs": [
    {
     "data": {
      "text/html": [
       "<div>\n",
       "<style scoped>\n",
       "    .dataframe tbody tr th:only-of-type {\n",
       "        vertical-align: middle;\n",
       "    }\n",
       "\n",
       "    .dataframe tbody tr th {\n",
       "        vertical-align: top;\n",
       "    }\n",
       "\n",
       "    .dataframe thead th {\n",
       "        text-align: right;\n",
       "    }\n",
       "</style>\n",
       "<table border=\"1\" class=\"dataframe\">\n",
       "  <thead>\n",
       "    <tr style=\"text-align: right;\">\n",
       "      <th></th>\n",
       "      <th>id_chamado</th>\n",
       "      <th>data_inicio</th>\n",
       "      <th>data_fim</th>\n",
       "      <th>id_bairro</th>\n",
       "      <th>id_territorialidade</th>\n",
       "      <th>id_logradouro</th>\n",
       "      <th>numero_logradouro</th>\n",
       "      <th>id_unidade_organizacional</th>\n",
       "      <th>nome_unidade_organizacional</th>\n",
       "      <th>id_unidade_organizacional_mae</th>\n",
       "      <th>...</th>\n",
       "      <th>tempo_prazo</th>\n",
       "      <th>prazo_unidade</th>\n",
       "      <th>prazo_tipo</th>\n",
       "      <th>dentro_prazo</th>\n",
       "      <th>situacao</th>\n",
       "      <th>tipo_situacao</th>\n",
       "      <th>justificativa_status</th>\n",
       "      <th>reclamacoes</th>\n",
       "      <th>data_particao</th>\n",
       "      <th>geometry</th>\n",
       "    </tr>\n",
       "  </thead>\n",
       "  <tbody>\n",
       "    <tr>\n",
       "      <th>214796</th>\n",
       "      <td>18516246</td>\n",
       "      <td>2023-04-01 00:55:38</td>\n",
       "      <td>2023-04-01 00:55:38</td>\n",
       "      <td>None</td>\n",
       "      <td>None</td>\n",
       "      <td>None</td>\n",
       "      <td>&lt;NA&gt;</td>\n",
       "      <td>1706</td>\n",
       "      <td>TR/SUBOP/CFT - Coordenadoria de Fiscalização e...</td>\n",
       "      <td>SMTR - Secretaria Municipal de Transportes</td>\n",
       "      <td>...</td>\n",
       "      <td>&lt;NA&gt;</td>\n",
       "      <td>D</td>\n",
       "      <td>F</td>\n",
       "      <td>No prazo</td>\n",
       "      <td>Encerrado</td>\n",
       "      <td>Atendido parcialmente</td>\n",
       "      <td>None</td>\n",
       "      <td>0</td>\n",
       "      <td>2023-04-01</td>\n",
       "      <td>None</td>\n",
       "    </tr>\n",
       "  </tbody>\n",
       "</table>\n",
       "<p>1 rows × 32 columns</p>\n",
       "</div>"
      ],
      "text/plain": [
       "       id_chamado         data_inicio            data_fim id_bairro  \\\n",
       "214796   18516246 2023-04-01 00:55:38 2023-04-01 00:55:38      None   \n",
       "\n",
       "       id_territorialidade id_logradouro  numero_logradouro  \\\n",
       "214796                None          None               <NA>   \n",
       "\n",
       "       id_unidade_organizacional  \\\n",
       "214796                      1706   \n",
       "\n",
       "                              nome_unidade_organizacional  \\\n",
       "214796  TR/SUBOP/CFT - Coordenadoria de Fiscalização e...   \n",
       "\n",
       "                     id_unidade_organizacional_mae  ... tempo_prazo  \\\n",
       "214796  SMTR - Secretaria Municipal de Transportes  ...        <NA>   \n",
       "\n",
       "       prazo_unidade prazo_tipo dentro_prazo   situacao  \\\n",
       "214796             D          F     No prazo  Encerrado   \n",
       "\n",
       "                tipo_situacao justificativa_status  reclamacoes  \\\n",
       "214796  Atendido parcialmente                 None            0   \n",
       "\n",
       "        data_particao geometry  \n",
       "214796     2023-04-01     None  \n",
       "\n",
       "[1 rows x 32 columns]"
      ]
     },
     "execution_count": 93,
     "metadata": {},
     "output_type": "execute_result"
    }
   ],
   "source": [
    "chamados_abril[chamados_abril['id_bairro'].isna()]"
   ]
  },
  {
   "cell_type": "markdown",
   "id": "3f3e32fe",
   "metadata": {},
   "source": [
    "## 6. Quantos chamados com o subtipo \"Perturbação do sossego\" foram abertos desde 01/01/2022 até 31/12/2023 (incluindo extremidades)?"
   ]
  },
  {
   "cell_type": "code",
   "execution_count": 52,
   "id": "bd2a854a",
   "metadata": {},
   "outputs": [],
   "source": [
    "chamados_perturbacao = chamado_1746[chamado_1746['subtipo'] == 'Perturbação do sossego']"
   ]
  },
  {
   "cell_type": "code",
   "execution_count": 53,
   "id": "0fcf369c",
   "metadata": {},
   "outputs": [
    {
     "data": {
      "text/plain": [
       "42408"
      ]
     },
     "execution_count": 53,
     "metadata": {},
     "output_type": "execute_result"
    }
   ],
   "source": [
    "len(chamados_perturbacao)"
   ]
  },
  {
   "cell_type": "markdown",
   "id": "2afcf67f",
   "metadata": {},
   "source": [
    "## 7. Selecione os chamados com esse subtipo que foram abertos durante os eventos contidos na tabela de eventos (Reveillon, Carnaval e Rock in Rio)."
   ]
  },
  {
   "cell_type": "code",
   "execution_count": 54,
   "id": "2b5cddca",
   "metadata": {
    "scrolled": true
   },
   "outputs": [],
   "source": [
    "chamados_perturbacao_eventos = []\n",
    "\n",
    "for _, row in eventos.iterrows():\n",
    "    c = chamados_perturbacao[chamados_perturbacao['data_inicio'].dt.date.between(row['data_inicial'], row['data_final'])]\n",
    "    c['evento'] = row.evento\n",
    "    chamados_perturbacao_eventos.append(c)\n",
    "\n",
    "chamados_perturbacao_eventos = pd.concat(chamados_perturbacao_eventos, ignore_index=True)"
   ]
  },
  {
   "cell_type": "code",
   "execution_count": 55,
   "id": "1753ffce",
   "metadata": {},
   "outputs": [
    {
     "data": {
      "text/html": [
       "<div>\n",
       "<style scoped>\n",
       "    .dataframe tbody tr th:only-of-type {\n",
       "        vertical-align: middle;\n",
       "    }\n",
       "\n",
       "    .dataframe tbody tr th {\n",
       "        vertical-align: top;\n",
       "    }\n",
       "\n",
       "    .dataframe thead th {\n",
       "        text-align: right;\n",
       "    }\n",
       "</style>\n",
       "<table border=\"1\" class=\"dataframe\">\n",
       "  <thead>\n",
       "    <tr style=\"text-align: right;\">\n",
       "      <th></th>\n",
       "      <th>id_chamado</th>\n",
       "      <th>data_inicio</th>\n",
       "      <th>data_fim</th>\n",
       "      <th>id_bairro</th>\n",
       "      <th>id_territorialidade</th>\n",
       "      <th>id_logradouro</th>\n",
       "      <th>numero_logradouro</th>\n",
       "      <th>id_unidade_organizacional</th>\n",
       "      <th>nome_unidade_organizacional</th>\n",
       "      <th>id_unidade_organizacional_mae</th>\n",
       "      <th>...</th>\n",
       "      <th>prazo_unidade</th>\n",
       "      <th>prazo_tipo</th>\n",
       "      <th>dentro_prazo</th>\n",
       "      <th>situacao</th>\n",
       "      <th>tipo_situacao</th>\n",
       "      <th>justificativa_status</th>\n",
       "      <th>reclamacoes</th>\n",
       "      <th>data_particao</th>\n",
       "      <th>geometry</th>\n",
       "      <th>evento</th>\n",
       "    </tr>\n",
       "  </thead>\n",
       "  <tbody>\n",
       "    <tr>\n",
       "      <th>0</th>\n",
       "      <td>18077970</td>\n",
       "      <td>2022-12-30 18:43:04</td>\n",
       "      <td>2022-12-30 22:13:06</td>\n",
       "      <td>35</td>\n",
       "      <td>2</td>\n",
       "      <td>65805</td>\n",
       "      <td>2</td>\n",
       "      <td>70</td>\n",
       "      <td>GM-RIO - Guarda Municipal do Rio de Janeiro</td>\n",
       "      <td>GM-RIO - Guarda Municipal do Rio de Janeiro</td>\n",
       "      <td>...</td>\n",
       "      <td>D</td>\n",
       "      <td>F</td>\n",
       "      <td>No prazo</td>\n",
       "      <td>Encerrado</td>\n",
       "      <td>Atendido</td>\n",
       "      <td>None</td>\n",
       "      <td>0</td>\n",
       "      <td>2022-12-01</td>\n",
       "      <td>POINT(-43.236608 -22.917704)</td>\n",
       "      <td>Reveillon</td>\n",
       "    </tr>\n",
       "    <tr>\n",
       "      <th>1</th>\n",
       "      <td>18077984</td>\n",
       "      <td>2022-12-30 18:53:12</td>\n",
       "      <td>2022-12-30 22:13:46</td>\n",
       "      <td>35</td>\n",
       "      <td>2</td>\n",
       "      <td>65805</td>\n",
       "      <td>2</td>\n",
       "      <td>70</td>\n",
       "      <td>GM-RIO - Guarda Municipal do Rio de Janeiro</td>\n",
       "      <td>GM-RIO - Guarda Municipal do Rio de Janeiro</td>\n",
       "      <td>...</td>\n",
       "      <td>D</td>\n",
       "      <td>F</td>\n",
       "      <td>No prazo</td>\n",
       "      <td>Encerrado</td>\n",
       "      <td>Atendido</td>\n",
       "      <td>None</td>\n",
       "      <td>0</td>\n",
       "      <td>2022-12-01</td>\n",
       "      <td>POINT(-43.236608 -22.917704)</td>\n",
       "      <td>Reveillon</td>\n",
       "    </tr>\n",
       "    <tr>\n",
       "      <th>2</th>\n",
       "      <td>18078334</td>\n",
       "      <td>2022-12-30 22:37:46</td>\n",
       "      <td>NaT</td>\n",
       "      <td>17</td>\n",
       "      <td>2</td>\n",
       "      <td>71134</td>\n",
       "      <td>46</td>\n",
       "      <td>70</td>\n",
       "      <td>GM-RIO - Guarda Municipal do Rio de Janeiro</td>\n",
       "      <td>GM-RIO - Guarda Municipal do Rio de Janeiro</td>\n",
       "      <td>...</td>\n",
       "      <td>D</td>\n",
       "      <td>F</td>\n",
       "      <td>Fora do prazo</td>\n",
       "      <td>Não Encerrado</td>\n",
       "      <td>Andamento</td>\n",
       "      <td>None</td>\n",
       "      <td>0</td>\n",
       "      <td>2022-12-01</td>\n",
       "      <td>POINT(-43.181432 -22.9332232)</td>\n",
       "      <td>Reveillon</td>\n",
       "    </tr>\n",
       "    <tr>\n",
       "      <th>3</th>\n",
       "      <td>18079140</td>\n",
       "      <td>2022-12-31 13:57:43</td>\n",
       "      <td>NaT</td>\n",
       "      <td>89</td>\n",
       "      <td>3</td>\n",
       "      <td>40709</td>\n",
       "      <td>666</td>\n",
       "      <td>70</td>\n",
       "      <td>GM-RIO - Guarda Municipal do Rio de Janeiro</td>\n",
       "      <td>GM-RIO - Guarda Municipal do Rio de Janeiro</td>\n",
       "      <td>...</td>\n",
       "      <td>D</td>\n",
       "      <td>F</td>\n",
       "      <td>Fora do prazo</td>\n",
       "      <td>Não Encerrado</td>\n",
       "      <td>Andamento</td>\n",
       "      <td>None</td>\n",
       "      <td>0</td>\n",
       "      <td>2022-12-01</td>\n",
       "      <td>None</td>\n",
       "      <td>Reveillon</td>\n",
       "    </tr>\n",
       "    <tr>\n",
       "      <th>4</th>\n",
       "      <td>18079072</td>\n",
       "      <td>2022-12-31 13:05:19</td>\n",
       "      <td>2023-01-02 10:23:07</td>\n",
       "      <td>24</td>\n",
       "      <td>2</td>\n",
       "      <td>65896</td>\n",
       "      <td>171</td>\n",
       "      <td>70</td>\n",
       "      <td>GM-RIO - Guarda Municipal do Rio de Janeiro</td>\n",
       "      <td>GM-RIO - Guarda Municipal do Rio de Janeiro</td>\n",
       "      <td>...</td>\n",
       "      <td>D</td>\n",
       "      <td>F</td>\n",
       "      <td>No prazo</td>\n",
       "      <td>Encerrado</td>\n",
       "      <td>Não atendido</td>\n",
       "      <td>None</td>\n",
       "      <td>0</td>\n",
       "      <td>2022-12-01</td>\n",
       "      <td>None</td>\n",
       "      <td>Reveillon</td>\n",
       "    </tr>\n",
       "  </tbody>\n",
       "</table>\n",
       "<p>5 rows × 33 columns</p>\n",
       "</div>"
      ],
      "text/plain": [
       "  id_chamado         data_inicio            data_fim id_bairro  \\\n",
       "0   18077970 2022-12-30 18:43:04 2022-12-30 22:13:06        35   \n",
       "1   18077984 2022-12-30 18:53:12 2022-12-30 22:13:46        35   \n",
       "2   18078334 2022-12-30 22:37:46                 NaT        17   \n",
       "3   18079140 2022-12-31 13:57:43                 NaT        89   \n",
       "4   18079072 2022-12-31 13:05:19 2023-01-02 10:23:07        24   \n",
       "\n",
       "  id_territorialidade id_logradouro  numero_logradouro  \\\n",
       "0                   2         65805                  2   \n",
       "1                   2         65805                  2   \n",
       "2                   2         71134                 46   \n",
       "3                   3         40709                666   \n",
       "4                   2         65896                171   \n",
       "\n",
       "  id_unidade_organizacional                  nome_unidade_organizacional  \\\n",
       "0                        70  GM-RIO - Guarda Municipal do Rio de Janeiro   \n",
       "1                        70  GM-RIO - Guarda Municipal do Rio de Janeiro   \n",
       "2                        70  GM-RIO - Guarda Municipal do Rio de Janeiro   \n",
       "3                        70  GM-RIO - Guarda Municipal do Rio de Janeiro   \n",
       "4                        70  GM-RIO - Guarda Municipal do Rio de Janeiro   \n",
       "\n",
       "                 id_unidade_organizacional_mae  ... prazo_unidade prazo_tipo  \\\n",
       "0  GM-RIO - Guarda Municipal do Rio de Janeiro  ...             D          F   \n",
       "1  GM-RIO - Guarda Municipal do Rio de Janeiro  ...             D          F   \n",
       "2  GM-RIO - Guarda Municipal do Rio de Janeiro  ...             D          F   \n",
       "3  GM-RIO - Guarda Municipal do Rio de Janeiro  ...             D          F   \n",
       "4  GM-RIO - Guarda Municipal do Rio de Janeiro  ...             D          F   \n",
       "\n",
       "    dentro_prazo       situacao tipo_situacao justificativa_status  \\\n",
       "0       No prazo      Encerrado      Atendido                 None   \n",
       "1       No prazo      Encerrado      Atendido                 None   \n",
       "2  Fora do prazo  Não Encerrado     Andamento                 None   \n",
       "3  Fora do prazo  Não Encerrado     Andamento                 None   \n",
       "4       No prazo      Encerrado  Não atendido                 None   \n",
       "\n",
       "  reclamacoes  data_particao                       geometry     evento  \n",
       "0           0     2022-12-01   POINT(-43.236608 -22.917704)  Reveillon  \n",
       "1           0     2022-12-01   POINT(-43.236608 -22.917704)  Reveillon  \n",
       "2           0     2022-12-01  POINT(-43.181432 -22.9332232)  Reveillon  \n",
       "3           0     2022-12-01                           None  Reveillon  \n",
       "4           0     2022-12-01                           None  Reveillon  \n",
       "\n",
       "[5 rows x 33 columns]"
      ]
     },
     "execution_count": 55,
     "metadata": {},
     "output_type": "execute_result"
    }
   ],
   "source": [
    "chamados_perturbacao_eventos.head()"
   ]
  },
  {
   "cell_type": "code",
   "execution_count": 56,
   "id": "6abf8c0d",
   "metadata": {},
   "outputs": [
    {
     "data": {
      "text/plain": [
       "(1212, 33)"
      ]
     },
     "execution_count": 56,
     "metadata": {},
     "output_type": "execute_result"
    }
   ],
   "source": [
    "chamados_perturbacao_eventos.shape"
   ]
  },
  {
   "cell_type": "markdown",
   "id": "edc6e4b0",
   "metadata": {},
   "source": [
    "## 8. Quantos chamados desse subtipo foram abertos em cada evento?"
   ]
  },
  {
   "cell_type": "code",
   "execution_count": 90,
   "id": "f2f6e02f",
   "metadata": {
    "scrolled": true
   },
   "outputs": [
    {
     "data": {
      "text/plain": [
       "evento\n",
       "Rock in Rio    834\n",
       "Carnaval       241\n",
       "Reveillon      137\n",
       "dtype: int64"
      ]
     },
     "execution_count": 90,
     "metadata": {},
     "output_type": "execute_result"
    }
   ],
   "source": [
    "chamados_perturbacao_eventos.groupby('evento').size().sort_values(ascending=False)"
   ]
  },
  {
   "cell_type": "markdown",
   "id": "8f31ff7e",
   "metadata": {},
   "source": [
    "## 9. Qual evento teve a maior média diária de chamados abertos desse subtipo?"
   ]
  },
  {
   "cell_type": "code",
   "execution_count": 98,
   "id": "54f4b9b8",
   "metadata": {
    "scrolled": true
   },
   "outputs": [],
   "source": [
    "media_diaria_eventos = chamados_perturbacao_eventos.groupby(['evento', chamados_perturbacao_eventos['data_inicio'].dt.date]).size().groupby('evento').mean().sort_values(ascending=False).reset_index(name='media_diaria')"
   ]
  },
  {
   "cell_type": "code",
   "execution_count": 101,
   "id": "1fd72471",
   "metadata": {},
   "outputs": [
    {
     "data": {
      "text/plain": [
       "evento          Rock in Rio\n",
       "media_diaria     119.142857\n",
       "dtype: object"
      ]
     },
     "execution_count": 101,
     "metadata": {},
     "output_type": "execute_result"
    }
   ],
   "source": [
    "media_diaria_eventos.max()"
   ]
  },
  {
   "cell_type": "markdown",
   "id": "7bf4216e",
   "metadata": {},
   "source": [
    "## 10. Compare as médias diárias de chamados abertos desse subtipo durante os eventos específicos (Reveillon, Carnaval e Rock in Rio) e a média diária de chamados abertos desse subtipo considerando todo o período de 01/01/2022 até 31/12/2023."
   ]
  },
  {
   "cell_type": "code",
   "execution_count": 102,
   "id": "78b8bd6b",
   "metadata": {},
   "outputs": [
    {
     "data": {
      "text/html": [
       "<div>\n",
       "<style scoped>\n",
       "    .dataframe tbody tr th:only-of-type {\n",
       "        vertical-align: middle;\n",
       "    }\n",
       "\n",
       "    .dataframe tbody tr th {\n",
       "        vertical-align: top;\n",
       "    }\n",
       "\n",
       "    .dataframe thead th {\n",
       "        text-align: right;\n",
       "    }\n",
       "</style>\n",
       "<table border=\"1\" class=\"dataframe\">\n",
       "  <thead>\n",
       "    <tr style=\"text-align: right;\">\n",
       "      <th></th>\n",
       "      <th>evento</th>\n",
       "      <th>media_diaria</th>\n",
       "    </tr>\n",
       "  </thead>\n",
       "  <tbody>\n",
       "    <tr>\n",
       "      <th>0</th>\n",
       "      <td>Rock in Rio</td>\n",
       "      <td>119.142857</td>\n",
       "    </tr>\n",
       "    <tr>\n",
       "      <th>1</th>\n",
       "      <td>Carnaval</td>\n",
       "      <td>60.250000</td>\n",
       "    </tr>\n",
       "    <tr>\n",
       "      <th>2</th>\n",
       "      <td>Reveillon</td>\n",
       "      <td>45.666667</td>\n",
       "    </tr>\n",
       "  </tbody>\n",
       "</table>\n",
       "</div>"
      ],
      "text/plain": [
       "        evento  media_diaria\n",
       "0  Rock in Rio    119.142857\n",
       "1     Carnaval     60.250000\n",
       "2    Reveillon     45.666667"
      ]
     },
     "execution_count": 102,
     "metadata": {},
     "output_type": "execute_result"
    }
   ],
   "source": [
    "media_diaria_eventos"
   ]
  },
  {
   "cell_type": "code",
   "execution_count": 109,
   "id": "978a9206",
   "metadata": {},
   "outputs": [
    {
     "data": {
      "text/plain": [
       "63.20119225037258"
      ]
     },
     "execution_count": 109,
     "metadata": {},
     "output_type": "execute_result"
    }
   ],
   "source": [
    "media_diaria_periodo = chamados_perturbacao.groupby(chamados_perturbacao['data_inicio'].dt.date).size().mean()\n",
    "media_diaria_periodo"
   ]
  }
 ],
 "metadata": {
  "kernelspec": {
   "display_name": "Python 3",
   "language": "python",
   "name": "python3"
  },
  "language_info": {
   "codemirror_mode": {
    "name": "ipython",
    "version": 3
   },
   "file_extension": ".py",
   "mimetype": "text/x-python",
   "name": "python",
   "nbconvert_exporter": "python",
   "pygments_lexer": "ipython3",
   "version": "3.8.10"
  }
 },
 "nbformat": 4,
 "nbformat_minor": 5
}
