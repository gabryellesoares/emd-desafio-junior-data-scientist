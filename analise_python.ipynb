{
 "cells": [
  {
   "cell_type": "code",
   "execution_count": 4,
   "id": "460cf291",
   "metadata": {
    "scrolled": true
   },
   "outputs": [],
   "source": [
    "import basedosdados as bd\n",
    "import pandas as pd\n",
    "import json"
   ]
  },
  {
   "cell_type": "code",
   "execution_count": 11,
   "id": "996b5718",
   "metadata": {},
   "outputs": [],
   "source": [
    "with open('config.json', 'r') as file:\n",
    "    config = json.load(file)\n",
    "\n",
    "project_id = config.get('billing_project_id', '')"
   ]
  },
  {
   "cell_type": "code",
   "execution_count": 3,
   "id": "9dcc3e92",
   "metadata": {},
   "outputs": [],
   "source": [
    "query_chamado_1746 = '''\n",
    "SELECT * \n",
    "FROM `datario.administracao_servicos_publicos.chamado_1746` \n",
    "WHERE data_particao BETWEEN DATE('2022-01-01') AND DATE('2023-12-31')\n",
    "'''\n",
    "\n",
    "chamado_1746 = bd.read_sql(query_chamado_1746, billing_project_id=project_id)\n",
    "chamado_1746.head()"
   ]
  },
  {
   "cell_type": "code",
   "execution_count": 2,
   "id": "39a0c241",
   "metadata": {
    "scrolled": true
   },
   "outputs": [
    {
     "name": "stdout",
     "output_type": "stream",
     "text": [
      "Downloading: 100%|\u001b[32m██████████████████████████████████████████████████████████████████\u001b[0m|\u001b[0m\n"
     ]
    }
   ],
   "source": [
    "query_eventos = \"SELECT * FROM `datario.turismo_fluxo_visitantes.rede_hoteleira_ocupacao_eventos`\"\n",
    "\n",
    "eventos = bd.read_sql(query_eventos, billing_project_id=project_id)\n",
    "eventos.head()"
   ]
  },
  {
   "cell_type": "code",
   "execution_count": null,
   "id": "c213fbf4",
   "metadata": {},
   "outputs": [],
   "source": [
    "query_bairros = \"SELECT * FROM `datario.dados_mestres.bairro`\"\n",
    "\n",
    "bairros = bd.read_sql(query_bairros, billing_project_id=project_id)\n",
    "bairros.head()"
   ]
  },
  {
   "cell_type": "markdown",
   "id": "29134522",
   "metadata": {},
   "source": [
    "## 1.  Quantos chamados foram abertos no dia 01/04/2023?"
   ]
  },
  {
   "cell_type": "code",
   "execution_count": null,
   "id": "ad4376b4",
   "metadata": {},
   "outputs": [],
   "source": []
  },
  {
   "cell_type": "markdown",
   "id": "38312184",
   "metadata": {},
   "source": [
    "## 2. Qual o tipo de chamado que teve mais reclamações no dia 01/04/2023?"
   ]
  },
  {
   "cell_type": "code",
   "execution_count": null,
   "id": "b2946fd7",
   "metadata": {},
   "outputs": [],
   "source": []
  },
  {
   "cell_type": "markdown",
   "id": "f4f665ed",
   "metadata": {},
   "source": [
    "## 3. Quais os nomes dos 3 bairros que mais tiveram chamados abertos nesse dia?"
   ]
  },
  {
   "cell_type": "code",
   "execution_count": null,
   "id": "26438f47",
   "metadata": {},
   "outputs": [],
   "source": []
  },
  {
   "cell_type": "markdown",
   "id": "c2d18fb0",
   "metadata": {},
   "source": [
    "## 4. Qual o nome da subprefeitura com mais chamados abertos nesse dia?"
   ]
  },
  {
   "cell_type": "code",
   "execution_count": null,
   "id": "87836fe3",
   "metadata": {},
   "outputs": [],
   "source": []
  },
  {
   "cell_type": "markdown",
   "id": "cc419f43",
   "metadata": {},
   "source": [
    "## 5. Existe algum chamado aberto nesse dia que não foi associado a um bairro ou subprefeitura na tabela de bairros? Se sim, por que isso acontece?"
   ]
  },
  {
   "cell_type": "code",
   "execution_count": null,
   "id": "6d8b9ed7",
   "metadata": {},
   "outputs": [],
   "source": []
  },
  {
   "cell_type": "markdown",
   "id": "b17e8f0e",
   "metadata": {},
   "source": [
    "## 6. Quantos chamados com o subtipo \"Perturbação do sossego\" foram abertos desde 01/01/2022 até 31/12/2023 (incluindo extremidades)?"
   ]
  },
  {
   "cell_type": "code",
   "execution_count": null,
   "id": "929ce910",
   "metadata": {},
   "outputs": [],
   "source": []
  },
  {
   "cell_type": "markdown",
   "id": "ff33dcb5",
   "metadata": {},
   "source": [
    "## 7. Selecione os chamados com esse subtipo que foram abertos durante os eventos contidos na tabela de eventos (Reveillon, Carnaval e Rock in Rio)."
   ]
  },
  {
   "cell_type": "code",
   "execution_count": null,
   "id": "fa5230ba",
   "metadata": {},
   "outputs": [],
   "source": []
  },
  {
   "cell_type": "markdown",
   "id": "4f57e198",
   "metadata": {},
   "source": [
    "## 8. Quantos chamados desse subtipo foram abertos em cada evento?"
   ]
  },
  {
   "cell_type": "code",
   "execution_count": null,
   "id": "50ad2236",
   "metadata": {},
   "outputs": [],
   "source": []
  },
  {
   "cell_type": "markdown",
   "id": "9fc24bc4",
   "metadata": {},
   "source": [
    "## 9. Qual evento teve a maior média diária de chamados abertos desse subtipo?"
   ]
  },
  {
   "cell_type": "code",
   "execution_count": null,
   "id": "1dfb0d55",
   "metadata": {},
   "outputs": [],
   "source": []
  },
  {
   "cell_type": "markdown",
   "id": "a8c06435",
   "metadata": {},
   "source": [
    "## 10. Compare as médias diárias de chamados abertos desse subtipo durante os eventos específicos (Reveillon, Carnaval e Rock in Rio) e a média diária de chamados abertos desse subtipo considerando todo o período de 01/01/2022 até 31/12/2023."
   ]
  },
  {
   "cell_type": "code",
   "execution_count": null,
   "id": "2821e9c6",
   "metadata": {},
   "outputs": [],
   "source": []
  }
 ],
 "metadata": {
  "kernelspec": {
   "display_name": "Python 3",
   "language": "python",
   "name": "python3"
  },
  "language_info": {
   "codemirror_mode": {
    "name": "ipython",
    "version": 3
   },
   "file_extension": ".py",
   "mimetype": "text/x-python",
   "name": "python",
   "nbconvert_exporter": "python",
   "pygments_lexer": "ipython3",
   "version": "3.8.10"
  }
 },
 "nbformat": 4,
 "nbformat_minor": 5
}
